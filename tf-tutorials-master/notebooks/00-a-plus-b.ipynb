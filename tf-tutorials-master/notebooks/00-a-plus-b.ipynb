{
 "cells": [
  {
   "cell_type": "markdown",
   "metadata": {},
   "source": [
    "## Getting Started With TensorFlow: Basics\n",
    "You’ll generally write TensorFlow programs, which you run as a chunk; This is at first sight kind of contradictory when you’re working with Python. However, if you would like, you can also use TensorFlow’s Interactive Session, which you can use to work more interactively with the library. This is especially handy when you’re used to working with IPython.\n",
    "\n",
    "For this notebook, you’ll focus on the second option: this will help you to get kickstarted with deep learning in TensorFlow. "
   ]
  },
  {
   "cell_type": "code",
   "execution_count": 1,
   "metadata": {},
   "outputs": [],
   "source": [
    "import tensorflow as tf #First, import the tensorflow library under the alias tf"
   ]
  },
  {
   "cell_type": "code",
   "execution_count": 3,
   "metadata": {},
   "outputs": [],
   "source": [
    "# Initialize two constants\n",
    "a = tf.constant(1)\n",
    "b = tf.constant(2)"
   ]
  },
  {
   "cell_type": "code",
   "execution_count": 4,
   "metadata": {},
   "outputs": [],
   "source": [
    "# add\n",
    "result = tf.add(a, b)"
   ]
  },
  {
   "cell_type": "code",
   "execution_count": 5,
   "metadata": {},
   "outputs": [],
   "source": [
    "# Intialize the Session\n",
    "sess = tf.Session()"
   ]
  },
  {
   "cell_type": "code",
   "execution_count": 6,
   "metadata": {},
   "outputs": [
    {
     "name": "stdout",
     "output_type": "stream",
     "text": [
      "3\n"
     ]
    }
   ],
   "source": [
    "# Print the result\n",
    "print(sess.run(result))"
   ]
  },
  {
   "cell_type": "code",
   "execution_count": 7,
   "metadata": {},
   "outputs": [],
   "source": [
    "# Close the session\n",
    "sess.close()"
   ]
  },
  {
   "cell_type": "markdown",
   "metadata": {},
   "source": [
    "#### We can also use an array which be called a tensor in tensorflow to init A and B"
   ]
  },
  {
   "cell_type": "code",
   "execution_count": 10,
   "metadata": {},
   "outputs": [
    {
     "name": "stdout",
     "output_type": "stream",
     "text": [
      "[array([ 6,  8, 10, 12], dtype=int32), array([ 5, 12, 21, 32], dtype=int32)]\n"
     ]
    }
   ],
   "source": [
    "# Initialize two constants\n",
    "A = tf.constant([1,2,3,4])\n",
    "B = tf.constant([5,6,7,8])\n",
    "\n",
    "# add\n",
    "res1 = tf.add(A, B)\n",
    "\n",
    "# multiply\n",
    "res2 = tf.multiply(A, B)\n",
    "\n",
    "# Initialize Session and run\n",
    "with tf.Session() as sess:\n",
    "  output = sess.run([res1, res2]) # Specify the output you want in the list\n",
    "  print(output)\n"
   ]
  },
  {
   "cell_type": "markdown",
   "metadata": {},
   "source": [
    "#### By using placeholders, we can feed arbitrary data into the compute graph."
   ]
  },
  {
   "cell_type": "code",
   "execution_count": 14,
   "metadata": {},
   "outputs": [
    {
     "name": "stdout",
     "output_type": "stream",
     "text": [
      "a: [53 73 18 58], b: [70 77  5 44]\n",
      "[array([123., 150.,  23., 102.], dtype=float32)]\n",
      "a: [39 29  8 17], b: [87 71 14 59]\n",
      "[array([126., 100.,  22.,  76.], dtype=float32)]\n",
      "a: [26 44 49 77], b: [81 33 60 27]\n",
      "[array([107.,  77., 109., 104.], dtype=float32)]\n",
      "a: [26  0 28 57], b: [41 68 86 93]\n",
      "[array([ 67.,  68., 114., 150.], dtype=float32)]\n",
      "a: [ 1 55 19 90], b: [40 48 46 45]\n",
      "[array([ 41., 103.,  65., 135.], dtype=float32)]\n",
      "a: [59 72 88 49], b: [28 18 66 33]\n",
      "[array([ 87.,  90., 154.,  82.], dtype=float32)]\n",
      "a: [25 96 41 69], b: [94 62 99 36]\n",
      "[array([119., 158., 140., 105.], dtype=float32)]\n",
      "a: [46 10 22 27], b: [33 63 22 84]\n",
      "[array([ 79.,  73.,  44., 111.], dtype=float32)]\n",
      "a: [ 2 99 10 24], b: [71 83 41  4]\n",
      "[array([ 73., 182.,  51.,  28.], dtype=float32)]\n",
      "a: [65 37 89 24], b: [73 33 10 53]\n",
      "[array([138.,  70.,  99.,  77.], dtype=float32)]\n"
     ]
    }
   ],
   "source": [
    "import numpy as np\n",
    "\n",
    "# Initialize two placeholders\n",
    "A = tf.placeholder(tf.float32, shape=(4,), name='A')\n",
    "B = tf.placeholder(tf.float32, shape=(4,), name='B')\n",
    "\n",
    "# add\n",
    "result = tf.add(A, B)\n",
    "\n",
    "with tf.Session() as sess:\n",
    "    for i in range(10):\n",
    "        a = np.random.randint(100, size=4)\n",
    "        b = np.random.randint(100, size=4)\n",
    "        print('a: {}, b: {}'.format(a, b))\n",
    "        print(sess.run([result], feed_dict={A: a, B: b}))"
   ]
  }
 ],
 "metadata": {
  "kernelspec": {
   "display_name": "Python 3",
   "language": "python",
   "name": "python3"
  },
  "language_info": {
   "codemirror_mode": {
    "name": "ipython",
    "version": 3
   },
   "file_extension": ".py",
   "mimetype": "text/x-python",
   "name": "python",
   "nbconvert_exporter": "python",
   "pygments_lexer": "ipython3",
   "version": "3.5.2"
  }
 },
 "nbformat": 4,
 "nbformat_minor": 2
}
